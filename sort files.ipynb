{
 "cells": [
  {
   "cell_type": "code",
   "execution_count": 1,
   "id": "75b6a871-faca-4f83-97ce-fadaeec00ead",
   "metadata": {},
   "outputs": [],
   "source": [
    "import os , shutil  , pathlib"
   ]
  },
  {
   "cell_type": "code",
   "execution_count": 2,
   "id": "8a9e53ed-cc76-4235-b0ea-fc6bf3ef9978",
   "metadata": {},
   "outputs": [],
   "source": [
    "path = r'D:/Karim/bootcamp/'"
   ]
  },
  {
   "cell_type": "code",
   "execution_count": 3,
   "id": "57f5aaf2-d261-452f-b5f2-89d30daa31a6",
   "metadata": {},
   "outputs": [],
   "source": [
    "file_name = os.listdir('D:/Karim/bootcamp')"
   ]
  },
  {
   "cell_type": "code",
   "execution_count": 4,
   "id": "c1910c59-1d6d-49ec-a326-d9e6f4ca3846",
   "metadata": {},
   "outputs": [],
   "source": [
    "folder_name = ['sql files','csv files','excel files' ]\n",
    "\n",
    "for x in range(0,3):\n",
    "    if not os.path.exists(path + folder_name[x]) :\n",
    "        os.makedirs(path + folder_name[x])"
   ]
  },
  {
   "cell_type": "code",
   "execution_count": 5,
   "id": "d3378736-5054-4016-b5e8-92ac2b663866",
   "metadata": {},
   "outputs": [],
   "source": [
    "for x in file_name:\n",
    "    if '.csv' in x and not os.path.exists(path + 'csv files/' + x):\n",
    "        shutil.move( path + x , path + 'csv files/' + x )\n",
    "    elif 'xlsx' in x and not os.path.exists(path + 'excel files/' + x):\n",
    "        shutil.move( path + x , path + 'excel files/' + x )\n",
    "    elif '.sql' in x and not os.path.exists(path + 'sql files/' + x):\n",
    "        shutil.move( path + x , path + 'sql files/' + x )"
   ]
  },
  {
   "cell_type": "code",
   "execution_count": null,
   "id": "0156ff7b-7839-40f5-9090-812d6e10fa51",
   "metadata": {},
   "outputs": [],
   "source": []
  }
 ],
 "metadata": {
  "kernelspec": {
   "display_name": "Python 3 (ipykernel)",
   "language": "python",
   "name": "python3"
  },
  "language_info": {
   "codemirror_mode": {
    "name": "ipython",
    "version": 3
   },
   "file_extension": ".py",
   "mimetype": "text/x-python",
   "name": "python",
   "nbconvert_exporter": "python",
   "pygments_lexer": "ipython3",
   "version": "3.11.7"
  }
 },
 "nbformat": 4,
 "nbformat_minor": 5
}
